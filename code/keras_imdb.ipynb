{
 "cells": [
  {
   "cell_type": "code",
   "execution_count": 1,
   "metadata": {},
   "outputs": [
    {
     "name": "stderr",
     "output_type": "stream",
     "text": [
      "Using TensorFlow backend.\n"
     ]
    }
   ],
   "source": [
    "# 电影评论分类：二分类问题\n",
    "import numpy as np\n",
    "from keras.datasets import imdb\n",
    "# imdb数据集包含来自互联网电影数据库（IMDB）的 50 000 条严重两极分\n",
    "# 化的评论。数据集被分为用于训练的 25 000 条评论与用于测试的 25 000 条评论，训练集和测试\n",
    "# 集都包含 50% 的正面评论和 50% 的负面评论。"
   ]
  },
  {
   "cell_type": "code",
   "execution_count": 2,
   "metadata": {},
   "outputs": [],
   "source": [
    "(train_data, train_labels), (test_data, test_labels) = imdb.load_data(r'D:\\imdb.npz',num_words=10000)\n",
    "# 加载本地的数据集"
   ]
  },
  {
   "cell_type": "code",
   "execution_count": 3,
   "metadata": {},
   "outputs": [
    {
     "name": "stdout",
     "output_type": "stream",
     "text": [
      "(25000,) (25000,)\n",
      "(25000,) (25000,)\n"
     ]
    }
   ],
   "source": [
    "print(train_data.shape,test_data.shape)\n",
    "print(train_labels.shape,test_labels.shape)"
   ]
  },
  {
   "cell_type": "code",
   "execution_count": 4,
   "metadata": {},
   "outputs": [
    {
     "data": {
      "text/plain": [
       "9999"
      ]
     },
     "execution_count": 4,
     "metadata": {},
     "output_type": "execute_result"
    }
   ],
   "source": [
    "max([max(x) for x in train_data])"
   ]
  },
  {
   "cell_type": "code",
   "execution_count": 6,
   "metadata": {},
   "outputs": [],
   "source": [
    "def vectorize_sequences(sequences,dimension=10000):\n",
    "    results=np.zeros((len(sequences),dimension))# 创建一个形状为 (len(sequences),dimension) 的零矩阵\n",
    "    for i,sequence in enumerate(sequences):\n",
    "        results[i,sequence]=1# 将 results[i] 的指定索引设为 1\n",
    "    return results\n",
    "x_train=vectorize_sequences(train_data)# 将训练数据向量化\n",
    "x_test=vectorize_sequences(test_data)# 将测试数据向量化"
   ]
  },
  {
   "cell_type": "code",
   "execution_count": 8,
   "metadata": {},
   "outputs": [
    {
     "name": "stdout",
     "output_type": "stream",
     "text": [
      "[0. 1. 1. ... 0. 0. 0.]\n",
      "[1, 14, 22, 16, 43, 530, 973, 1622, 1385, 65, 458, 4468, 66, 3941, 4, 173, 36, 256, 5, 25, 100, 43, 838, 112, 50, 670, 2, 9, 35, 480, 284, 5, 150, 4, 172, 112, 167, 2, 336, 385, 39, 4, 172, 4536, 1111, 17, 546, 38, 13, 447, 4, 192, 50, 16, 6, 147, 2025, 19, 14, 22, 4, 1920, 4613, 469, 4, 22, 71, 87, 12, 16, 43, 530, 38, 76, 15, 13, 1247, 4, 22, 17, 515, 17, 12, 16, 626, 18, 2, 5, 62, 386, 12, 8, 316, 8, 106, 5, 4, 2223, 5244, 16, 480, 66, 3785, 33, 4, 130, 12, 16, 38, 619, 5, 25, 124, 51, 36, 135, 48, 25, 1415, 33, 6, 22, 12, 215, 28, 77, 52, 5, 14, 407, 16, 82, 2, 8, 4, 107, 117, 5952, 15, 256, 4, 2, 7, 3766, 5, 723, 36, 71, 43, 530, 476, 26, 400, 317, 46, 7, 4, 2, 1029, 13, 104, 88, 4, 381, 15, 297, 98, 32, 2071, 56, 26, 141, 6, 194, 7486, 18, 4, 226, 22, 21, 134, 476, 26, 480, 5, 144, 30, 5535, 18, 51, 36, 28, 224, 92, 25, 104, 4, 226, 65, 16, 38, 1334, 88, 12, 16, 283, 5, 16, 4472, 113, 103, 32, 15, 16, 5345, 19, 178, 32]\n"
     ]
    }
   ],
   "source": [
    "print(x_train[0])\n",
    "print(train_data[0])"
   ]
  },
  {
   "cell_type": "code",
   "execution_count": 9,
   "metadata": {},
   "outputs": [],
   "source": [
    "# 将标签向量化\n",
    "y_train = np.asarray(train_labels).astype('float32')\n",
    "y_test = np.asarray(test_labels).astype('float32')"
   ]
  },
  {
   "cell_type": "code",
   "execution_count": 11,
   "metadata": {},
   "outputs": [],
   "source": [
    "# 模型定义\n",
    "from keras import models\n",
    "from keras import layers\n",
    "model=models.Sequential()\n",
    "model.add(layers.Dense(16,activation='relu',input_shape=(10000,)))\n",
    "model.add(layers.Dense(16,activation='relu'))\n",
    "model.add(layers.Dense(1,activation='sigmoid'))\n",
    "# 什么是激活函数？为什么要使用激活函数？\n",
    "# 如果没有 relu 等激活函数（也叫非线性）Dense层将只包含两个线性运算——点积和加法：\n",
    "# output = dot(W, input) + b\n",
    "# 这样Dense层就只能学习输入数据的线性变换（仿射变换）：该层的假设空间是从输\n",
    "# 入数据到 16 位空间所有可能的线性变换集合。这种假设空间非常有限，无法利用多个表示\n",
    "# 层的优势，因为多个线性层堆叠实现的仍是线性运算，添加层数并不会扩展假设空间。\n",
    "# 为了得到更丰富的假设空间，从而充分利用多层表示的优势，你需要添加非线性或激\n",
    "# 活函数。 relu 是深度学习中最常用的激活函数，但还有许多其他函数可选，它们都有类似\n",
    "# 的奇怪名称，比如 prelu 、 elu 等。"
   ]
  },
  {
   "cell_type": "code",
   "execution_count": 12,
   "metadata": {},
   "outputs": [
    {
     "name": "stdout",
     "output_type": "stream",
     "text": [
      "WARNING:tensorflow:From D:\\Anaconda3\\lib\\site-packages\\tensorflow\\python\\ops\\nn_impl.py:180: add_dispatch_support.<locals>.wrapper (from tensorflow.python.ops.array_ops) is deprecated and will be removed in a future version.\n",
      "Instructions for updating:\n",
      "Use tf.where in 2.0, which has the same broadcast rule as np.where\n"
     ]
    }
   ],
   "source": [
    "# 编译模型（优化器、损失函数、监控精度）\n",
    "model.compile(optimizer='rmsprop',loss='binary_crossentropy',metrics=['accuracy'])"
   ]
  },
  {
   "cell_type": "code",
   "execution_count": 13,
   "metadata": {},
   "outputs": [
    {
     "name": "stdout",
     "output_type": "stream",
     "text": [
      "(10000, 10000)\n",
      "(15000, 10000)\n",
      "(10000,)\n",
      "(15000,)\n"
     ]
    }
   ],
   "source": [
    "# 留出验证集\n",
    "x_val = x_train[:10000]\n",
    "partial_x_train = x_train[10000:]\n",
    "y_val = y_train[:10000]\n",
    "partial_y_train = y_train[10000:]\n",
    "print(x_val.shape)\n",
    "print(partial_x_train.shape)\n",
    "print(y_val.shape)\n",
    "print(partial_y_train.shape)"
   ]
  },
  {
   "cell_type": "code",
   "execution_count": 14,
   "metadata": {
    "scrolled": true
   },
   "outputs": [
    {
     "name": "stdout",
     "output_type": "stream",
     "text": [
      "WARNING:tensorflow:From D:\\Anaconda3\\lib\\site-packages\\keras\\backend\\tensorflow_backend.py:422: The name tf.global_variables is deprecated. Please use tf.compat.v1.global_variables instead.\n",
      "\n",
      "Train on 15000 samples, validate on 10000 samples\n",
      "Epoch 1/20\n",
      "15000/15000 [==============================] - 10s 670us/step - loss: 0.4973 - accuracy: 0.7871 - val_loss: 0.4057 - val_accuracy: 0.8332\n",
      "Epoch 2/20\n",
      "15000/15000 [==============================] - 7s 457us/step - loss: 0.2894 - accuracy: 0.9055 - val_loss: 0.3012 - val_accuracy: 0.8866\n",
      "Epoch 3/20\n",
      "15000/15000 [==============================] - 6s 422us/step - loss: 0.2152 - accuracy: 0.9278 - val_loss: 0.2887 - val_accuracy: 0.8837\n",
      "Epoch 4/20\n",
      "15000/15000 [==============================] - 7s 500us/step - loss: 0.1674 - accuracy: 0.9474 - val_loss: 0.3271 - val_accuracy: 0.8688\n",
      "Epoch 5/20\n",
      "15000/15000 [==============================] - 6s 429us/step - loss: 0.1356 - accuracy: 0.9587 - val_loss: 0.3094 - val_accuracy: 0.8786\n",
      "Epoch 6/20\n",
      "15000/15000 [==============================] - 7s 453us/step - loss: 0.1112 - accuracy: 0.9667 - val_loss: 0.3051 - val_accuracy: 0.8826\n",
      "Epoch 7/20\n",
      "15000/15000 [==============================] - 6s 421us/step - loss: 0.0944 - accuracy: 0.9714 - val_loss: 0.3258 - val_accuracy: 0.8789\n",
      "Epoch 8/20\n",
      "15000/15000 [==============================] - 7s 461us/step - loss: 0.0745 - accuracy: 0.9809 - val_loss: 0.3632 - val_accuracy: 0.8774\n",
      "Epoch 9/20\n",
      "15000/15000 [==============================] - 7s 464us/step - loss: 0.0611 - accuracy: 0.9835 - val_loss: 0.3610 - val_accuracy: 0.8790\n",
      "Epoch 10/20\n",
      "15000/15000 [==============================] - 7s 440us/step - loss: 0.0556 - accuracy: 0.9853 - val_loss: 0.3817 - val_accuracy: 0.8774\n",
      "Epoch 11/20\n",
      "15000/15000 [==============================] - 7s 495us/step - loss: 0.0426 - accuracy: 0.9901 - val_loss: 0.4125 - val_accuracy: 0.8783\n",
      "Epoch 12/20\n",
      "15000/15000 [==============================] - 7s 455us/step - loss: 0.0358 - accuracy: 0.9913 - val_loss: 0.4459 - val_accuracy: 0.8699\n",
      "Epoch 13/20\n",
      "15000/15000 [==============================] - 7s 477us/step - loss: 0.0260 - accuracy: 0.9953 - val_loss: 0.4676 - val_accuracy: 0.8714\n",
      "Epoch 14/20\n",
      "15000/15000 [==============================] - 7s 475us/step - loss: 0.0216 - accuracy: 0.9966 - val_loss: 0.4973 - val_accuracy: 0.8717\n",
      "Epoch 15/20\n",
      "15000/15000 [==============================] - 8s 506us/step - loss: 0.0201 - accuracy: 0.9969 - val_loss: 0.5277 - val_accuracy: 0.8700\n",
      "Epoch 16/20\n",
      "15000/15000 [==============================] - 7s 485us/step - loss: 0.0131 - accuracy: 0.9985 - val_loss: 0.6047 - val_accuracy: 0.8589\n",
      "Epoch 17/20\n",
      "15000/15000 [==============================] - 7s 465us/step - loss: 0.0094 - accuracy: 0.9991 - val_loss: 0.6192 - val_accuracy: 0.8589\n",
      "Epoch 18/20\n",
      "15000/15000 [==============================] - 7s 451us/step - loss: 0.0068 - accuracy: 0.9997 - val_loss: 0.6996 - val_accuracy: 0.8543\n",
      "Epoch 19/20\n",
      "15000/15000 [==============================] - 7s 467us/step - loss: 0.0112 - accuracy: 0.9974 - val_loss: 0.6649 - val_accuracy: 0.8667\n",
      "Epoch 20/20\n",
      "15000/15000 [==============================] - 8s 518us/step - loss: 0.0035 - accuracy: 0.9998 - val_loss: 0.6927 - val_accuracy: 0.8651\n"
     ]
    },
    {
     "ename": "NameError",
     "evalue": "name 'dict_keys' is not defined",
     "output_type": "error",
     "traceback": [
      "\u001b[1;31m---------------------------------------------------------------------------\u001b[0m",
      "\u001b[1;31mNameError\u001b[0m                                 Traceback (most recent call last)",
      "\u001b[1;32m<ipython-input-14-659a13827638>\u001b[0m in \u001b[0;36m<module>\u001b[1;34m\u001b[0m\n\u001b[0;32m      5\u001b[0m \u001b[0mhistory_dict\u001b[0m \u001b[1;33m=\u001b[0m \u001b[0mhistory\u001b[0m\u001b[1;33m.\u001b[0m\u001b[0mhistory\u001b[0m\u001b[1;33m\u001b[0m\u001b[1;33m\u001b[0m\u001b[0m\n\u001b[0;32m      6\u001b[0m \u001b[0mhistory_dict\u001b[0m\u001b[1;33m.\u001b[0m\u001b[0mkeys\u001b[0m\u001b[1;33m(\u001b[0m\u001b[1;33m)\u001b[0m\u001b[1;33m\u001b[0m\u001b[1;33m\u001b[0m\u001b[0m\n\u001b[1;32m----> 7\u001b[1;33m \u001b[0mdict_keys\u001b[0m\u001b[1;33m(\u001b[0m\u001b[1;33m[\u001b[0m\u001b[1;34m'val_acc'\u001b[0m\u001b[1;33m,\u001b[0m \u001b[1;34m'acc'\u001b[0m\u001b[1;33m,\u001b[0m \u001b[1;34m'val_loss'\u001b[0m\u001b[1;33m,\u001b[0m \u001b[1;34m'loss'\u001b[0m\u001b[1;33m]\u001b[0m\u001b[1;33m)\u001b[0m\u001b[1;33m\u001b[0m\u001b[1;33m\u001b[0m\u001b[0m\n\u001b[0m\u001b[0;32m      8\u001b[0m \u001b[1;31m# 字典中包含 4 个条目，对应训练过程和验证过程中监控的指标。在下面两个代码清单中，\u001b[0m\u001b[1;33m\u001b[0m\u001b[1;33m\u001b[0m\u001b[1;33m\u001b[0m\u001b[0m\n\u001b[0;32m      9\u001b[0m \u001b[1;31m# 我们将使用 Matplotlib 在同一张图上绘制训练损失和验证损失（见图 3-7），以及训练精度和验证精度（见图 3-8）。\u001b[0m\u001b[1;33m\u001b[0m\u001b[1;33m\u001b[0m\u001b[1;33m\u001b[0m\u001b[0m\n",
      "\u001b[1;31mNameError\u001b[0m: name 'dict_keys' is not defined"
     ]
    }
   ],
   "source": [
    "# 训练模型\n",
    "history = model.fit(partial_x_train,partial_y_train,epochs=20,batch_size=512,validation_data=(x_val, y_val))\n",
    "# 注意，调用 model.fit() 返回了一个 History 对象。这个对象有一个成员 history ，它\n",
    "# 是一个字典，包含训练过程中的所有数据。我们来看一下。\n"
   ]
  },
  {
   "cell_type": "code",
   "execution_count": null,
   "metadata": {},
   "outputs": [],
   "source": [
    "history_dict = history.history\n",
    "# dict_keys(['val_acc', 'acc', 'val_loss', 'loss'])\n",
    "# 字典中包含 4 个条目，对应训练过程和验证过程中监控的指标。在下面两个代码清单中，\n",
    "# 我们将使用 Matplotlib 在同一张图上绘制训练损失和验证损失（见图 3-7），以及训练精度和验证精度（见图 3-8）。\n",
    "# 注意，由于网络的随机初始化不同，得到的结果可能会略有不同。# 绘制训练损失和验证损失"
   ]
  },
  {
   "cell_type": "code",
   "execution_count": 19,
   "metadata": {},
   "outputs": [
    {
     "data": {
      "image/png": "[encoded data removed]",
      "text/plain": [
       "<Figure size 432x288 with 1 Axes>"
      ]
     },
     "metadata": {
      "needs_background": "light"
     },
     "output_type": "display_data"
    }
   ],
   "source": [
    "import matplotlib.pyplot as plt\n",
    "history_dict = history.history\n",
    "loss_values = history_dict['loss']\n",
    "val_loss_values = history_dict['val_loss']\n",
    "epochs = range(1, len(loss_values) + 1)\n",
    "plt.plot(epochs, loss_values, 'bo', label='Training loss')# 'bo' 表示蓝色圆点\n",
    "plt.plot(epochs, val_loss_values, 'b', label='Validation loss')# 'b' 表示蓝色实线\n",
    "plt.title('Training and validation loss')\n",
    "plt.xlabel('Epochs')\n",
    "plt.ylabel('Loss')\n",
    "plt.legend()\n",
    "plt.show()"
   ]
  },
  {
   "cell_type": "code",
   "execution_count": 21,
   "metadata": {},
   "outputs": [
    {
     "data": {
      "image/png": "[encoded data removed]",
      "text/plain": [
       "<Figure size 432x288 with 1 Axes>"
      ]
     },
     "metadata": {
      "needs_background": "light"
     },
     "output_type": "display_data"
    }
   ],
   "source": [
    "# 绘制训练精度和验证精度\n",
    "plt.clf()# 清空图像\n",
    "acc = history_dict['accuracy']\n",
    "val_acc = history_dict['val_accuracy']\n",
    "plt.plot(epochs, acc, 'bo', label='Training accuracy')\n",
    "plt.plot(epochs, val_acc, 'b', label='Validation accuracy')\n",
    "plt.title('Training and validation accuracy')\n",
    "plt.xlabel('Epochs')\n",
    "plt.ylabel('Accuracy')\n",
    "plt.legend()\n",
    "plt.show()"
   ]
  },
  {
   "cell_type": "code",
   "execution_count": 22,
   "metadata": {},
   "outputs": [],
   "source": [
    "# 训练损失每轮都在降低，训练精度每轮都在提升。这就是梯度下降优化的预期结果\n",
    "# 想要最小化的量随着每次迭代越来越小。\n",
    "# 但验证损失和验证精度并非如此：它们似乎在第四轮达到最佳值。\n",
    "# 这就是我们之前警告过的一种情况：模型在训练数据上的表现越来越好，但在前所未见的数据上不一定表现得越来越好。\n",
    "# 准确地是过拟合（overfit）：在第二轮之后，对训练数据过度优化，最终学到的表示仅针对于训练数据，无法泛化到训练集之外的数据。\n",
    "# 在这种情况下，为了防止过拟合，可以在 3 轮之后停止训练。通常来说，可以使用许多方法来降低过拟合\n",
    "# 我们从头开始训练一个新的网络，训练 4 轮，然后在测试数据上评估模型。"
   ]
  },
  {
   "cell_type": "code",
   "execution_count": 23,
   "metadata": {},
   "outputs": [
    {
     "name": "stdout",
     "output_type": "stream",
     "text": [
      "Epoch 1/4\n",
      "25000/25000 [==============================] - 11s 450us/step - loss: 0.4477 - accuracy: 0.8271\n",
      "Epoch 2/4\n",
      "25000/25000 [==============================] - 7s 292us/step - loss: 0.2615 - accuracy: 0.90821s - loss: 0.2652 - ac\n",
      "Epoch 3/4\n",
      "25000/25000 [==============================] - 8s 309us/step - loss: 0.2002 - accuracy: 0.9310\n",
      "Epoch 4/4\n",
      "25000/25000 [==============================] - 7s 289us/step - loss: 0.1668 - accuracy: 0.9410\n",
      "25000/25000 [==============================] - 12s 475us/step\n"
     ]
    }
   ],
   "source": [
    "# 从头开始重新训练一个模型\n",
    "model = models.Sequential()\n",
    "model.add(layers.Dense(16, activation='relu', input_shape=(10000,)))\n",
    "model.add(layers.Dense(16, activation='relu'))\n",
    "model.add(layers.Dense(1, activation='sigmoid'))\n",
    "model.compile(optimizer='rmsprop',loss='binary_crossentropy',metrics=['accuracy'])\n",
    "# 对比\n",
    "# history = model.fit(partial_x_train,partial_y_train,epochs=20,batch_size=512,validation_data=(x_val, y_val))\n",
    "model.fit(x_train, y_train, epochs=4, batch_size=512)\n",
    "results = model.evaluate(x_test, y_test)"
   ]
  },
  {
   "cell_type": "code",
   "execution_count": 25,
   "metadata": {},
   "outputs": [
    {
     "data": {
      "text/plain": [
       "[0.30173719826698303, 0.8811200261116028]"
      ]
     },
     "execution_count": 25,
     "metadata": {},
     "output_type": "execute_result"
    }
   ],
   "source": [
    "results\n",
    "# 这种相当简单的方法得到了 88% 的精度。利用最先进的方法，应该能够得到接近 95% 的精度"
   ]
  },
  {
   "cell_type": "code",
   "execution_count": 27,
   "metadata": {},
   "outputs": [
    {
     "data": {
      "text/plain": [
       "array([[0.1504144 ],\n",
       "       [0.9994801 ],\n",
       "       [0.6121148 ],\n",
       "       ...,\n",
       "       [0.08862579],\n",
       "       [0.03930596],\n",
       "       [0.6450207 ]], dtype=float32)"
      ]
     },
     "execution_count": 27,
     "metadata": {},
     "output_type": "execute_result"
    }
   ],
   "source": [
    "# 训练好网络之后，用于实践。可以用 predict 方法来得到评论为正面的可能性大小。\n",
    "model.predict(x_test)"
   ]
  },
  {
   "cell_type": "code",
   "execution_count": 28,
   "metadata": {},
   "outputs": [],
   "source": [
    "# 网络对某些样本的结果非常确信（大于等于 0.99，或小于等于 0.01），但对其他结果却不那么确信（0.6 或 0.4）。"
   ]
  },
  {
   "cell_type": "code",
   "execution_count": null,
   "metadata": {},
   "outputs": [],
   "source": []
  }
 ],
 "metadata": {
  "kernelspec": {
   "display_name": "Python 3",
   "language": "python",
   "name": "python3"
  },
  "language_info": {
   "codemirror_mode": {
    "name": "ipython",
    "version": 3
   },
   "file_extension": ".py",
   "mimetype": "text/x-python",
   "name": "python",
   "nbconvert_exporter": "python",
   "pygments_lexer": "ipython3",
   "version": "3.7.4"
  }
 },
 "nbformat": 4,
 "nbformat_minor": 2
}
