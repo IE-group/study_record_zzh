{
 "cells": [
  {
   "cell_type": "code",
   "execution_count": 1,
   "metadata": {},
   "outputs": [
    {
     "name": "stderr",
     "output_type": "stream",
     "text": [
      "Using TensorFlow backend.\n"
     ]
    }
   ],
   "source": [
    "# 路透社数据集\n",
    "import numpy as np\n",
    "from keras.datasets import reuters\n",
    "(train_data, train_labels), (test_data, test_labels) = reuters.load_data(r'D:\\reuters.npz',num_words=10000)\n",
    "# 加载本地的数据集"
   ]
  },
  {
   "cell_type": "code",
   "execution_count": 2,
   "metadata": {},
   "outputs": [
    {
     "name": "stdout",
     "output_type": "stream",
     "text": [
      "8982\n",
      "2246\n",
      "[1, 245, 273, 207, 156, 53, 74, 160, 26, 14, 46, 296, 26, 39, 74, 2979, 3554, 14, 46, 4689, 4329, 86, 61, 3499, 4795, 14, 61, 451, 4329, 17, 12]\n"
     ]
    }
   ],
   "source": [
    "# 参数 num_words=10000 将数据限定为前 10 000 个最常出现的单词。\n",
    "# 我们有 8982 个训练样本和 2246 个测试样本。\n",
    "print(len(train_data))\n",
    "print(len(test_data))\n",
    "# 与 IMDB 评论一样，每个样本都是一个整数列表（表示单词索引）。\n",
    "print(train_data[10])"
   ]
  },
  {
   "cell_type": "code",
   "execution_count": 3,
   "metadata": {},
   "outputs": [
    {
     "name": "stdout",
     "output_type": "stream",
     "text": [
      "3\n"
     ]
    }
   ],
   "source": [
    "# 样本对应的标签是一个 0~45 范围内的整数，即话题索引编号。\n",
    "print(train_labels[10])"
   ]
  },
  {
   "cell_type": "code",
   "execution_count": 4,
   "metadata": {},
   "outputs": [],
   "source": [
    "# 准备数据\n",
    "import numpy as np\n",
    "def vectorize_sequences(sequences, dimension=10000):\n",
    "    results = np.zeros((len(sequences), dimension))\n",
    "    for i, sequence in enumerate(sequences):\n",
    "        results[i, sequence] = 1.\n",
    "    return results\n",
    "x_train = vectorize_sequences(train_data)\n",
    "x_test = vectorize_sequences(test_data)\n",
    "# one-hot 编码是分类数据广泛使用的一种格式，也叫分类编码（categorical encoding）。\n",
    "# 在这个例子中，标签的one-hot编码就是将每个标签表示为全零向量，只有标签索引对应的元素为 1。其代码实现如下。\n",
    "def to_one_hot(labels, dimension=46):\n",
    "    results = np.zeros((len(labels), dimension))\n",
    "    for i, label in enumerate(labels):\n",
    "        results[i, label] = 1.\n",
    "    return results\n",
    "one_hot_train_labels = to_one_hot(train_labels)\n",
    "one_hot_test_labels = to_one_hot(test_labels)\n",
    "# Keras 内置方法可以实现这个操作，在 MNIST 例子中已经见过这种方法。\n",
    "# from keras.utils.np_utils import to_categorical\n",
    "# one_hot_train_labels = to_categorical(train_labels)\n",
    "# one_hot_test_labels = to_categorical(test_labels)"
   ]
  },
  {
   "cell_type": "code",
   "execution_count": 5,
   "metadata": {},
   "outputs": [],
   "source": [
    "# 这个主题分类问题与前面的电影评论分类问题类似，两个例子都是试图对简短的文本片段进行分类。\n",
    "# 但这个问题有一个新的约束条件：输出类别的数量从 2 个变为 46 个。输出空间的维度要大得多。\n",
    "# 对于前面用过的 Dense 层的堆叠，每层只能访问上一层输出的信息。如果某一层丢失了与分类问题相关的一些信息，那么这些信息无法被后面的层找回，\n",
    "# 也就是说，每一层都可能成为信息瓶颈。\n",
    "# 上一个例子使用了 16 维的中间层，但对这个例子来说 16 维空间可能太小了，无法学会区分 46 个不同的类别。\n",
    "# 这种维度较小的层可能成为信息瓶颈，永久地丢失相关信息。\n",
    "# 出于这个原因，下面将使用维度更大的层，包含 64 个单元。"
   ]
  },
  {
   "cell_type": "code",
   "execution_count": 6,
   "metadata": {},
   "outputs": [],
   "source": [
    "# 模型定义\n",
    "from keras import models\n",
    "from keras import layers\n",
    "model = models.Sequential()\n",
    "model.add(layers.Dense(64, activation='relu', input_shape=(10000,)))\n",
    "model.add(layers.Dense(64, activation='relu'))\n",
    "model.add(layers.Dense(46, activation='softmax'))\n",
    "# 关于这个架构还应该注意另外两点。\n",
    "# 1.网络的最后一层是大小为 46 的 Dense 层。这意味着，对于每个输入样本，网络都会输\n",
    "# 出一个 46 维向量。这个向量的每个元素（即每个维度）代表不同的输出类别。\n",
    "# 2.最后一层使用了 softmax 激活。网络将输出在 46个不同输出类别上的概率分布\n",
    "# ——对于每一个输入样本，网络都会输出一个 46 维向量，其中 output[i] 是样本属于第 i 个类别的概率, 46 个概率的总和为 1。\n",
    "# 对于这个例子，最好的损失函数是 categorical_crossentropy （分类交叉熵）。它用于衡量两个概率分布之间的距离，\n",
    "# 这里两个概率分布分别是网络输出的概率分布和标签的真实分布。\n",
    "# 通过将这两个分布的距离最小化，训练网络可使输出结果尽可能接近真实标签。"
   ]
  },
  {
   "cell_type": "code",
   "execution_count": 7,
   "metadata": {},
   "outputs": [],
   "source": [
    "# 编译模型\n",
    "model.compile(optimizer='rmsprop',loss='categorical_crossentropy',metrics=['accuracy'])"
   ]
  },
  {
   "cell_type": "code",
   "execution_count": 9,
   "metadata": {},
   "outputs": [
    {
     "name": "stdout",
     "output_type": "stream",
     "text": [
      "(1000, 10000)\n",
      "(7982, 10000)\n",
      "(1000, 46)\n",
      "(7982, 46)\n"
     ]
    }
   ],
   "source": [
    "# 留出验证集\n",
    "x_val = x_train[:1000]\n",
    "partial_x_train = x_train[1000:]\n",
    "y_val = one_hot_train_labels[:1000]\n",
    "partial_y_train = one_hot_train_labels[1000:]\n",
    "print(x_val.shape)\n",
    "print(partial_x_train.shape)\n",
    "print(y_val.shape)\n",
    "print(partial_y_train.shape)"
   ]
  },
  {
   "cell_type": "code",
   "execution_count": 10,
   "metadata": {},
   "outputs": [
    {
     "name": "stdout",
     "output_type": "stream",
     "text": [
      "WARNING:tensorflow:From D:\\Anaconda3\\lib\\site-packages\\keras\\backend\\tensorflow_backend.py:422: The name tf.global_variables is deprecated. Please use tf.compat.v1.global_variables instead.\n",
      "\n",
      "Train on 7982 samples, validate on 1000 samples\n",
      "Epoch 1/20\n",
      "7982/7982 [==============================] - 5s 623us/step - loss: 2.6682 - accuracy: 0.5378 - val_loss: 1.7181 - val_accuracy: 0.6460\n",
      "Epoch 2/20\n",
      "7982/7982 [==============================] - 4s 449us/step - loss: 1.4019 - accuracy: 0.7110 - val_loss: 1.2967 - val_accuracy: 0.7250\n",
      "Epoch 3/20\n",
      "7982/7982 [==============================] - 3s 395us/step - loss: 1.0489 - accuracy: 0.7791 - val_loss: 1.1468 - val_accuracy: 0.7450\n",
      "Epoch 4/20\n",
      "7982/7982 [==============================] - 3s 382us/step - loss: 0.8301 - accuracy: 0.8244 - val_loss: 1.0386 - val_accuracy: 0.7690\n",
      "Epoch 5/20\n",
      "7982/7982 [==============================] - 4s 445us/step - loss: 0.6651 - accuracy: 0.8614 - val_loss: 0.9699 - val_accuracy: 0.8070\n",
      "Epoch 6/20\n",
      "7982/7982 [==============================] - 3s 376us/step - loss: 0.5379 - accuracy: 0.8921 - val_loss: 0.9279 - val_accuracy: 0.8040\n",
      "Epoch 7/20\n",
      "7982/7982 [==============================] - 3s 431us/step - loss: 0.4350 - accuracy: 0.9075 - val_loss: 0.9055 - val_accuracy: 0.8130\n",
      "Epoch 8/20\n",
      "7982/7982 [==============================] - 3s 382us/step - loss: 0.3558 - accuracy: 0.9253 - val_loss: 0.8882 - val_accuracy: 0.8190\n",
      "Epoch 9/20\n",
      "7982/7982 [==============================] - 3s 382us/step - loss: 0.2984 - accuracy: 0.9361 - val_loss: 0.8904 - val_accuracy: 0.8140\n",
      "Epoch 10/20\n",
      "7982/7982 [==============================] - 3s 373us/step - loss: 0.2474 - accuracy: 0.9459 - val_loss: 0.9582 - val_accuracy: 0.8160\n",
      "Epoch 11/20\n",
      "7982/7982 [==============================] - 4s 455us/step - loss: 0.2147 - accuracy: 0.9491 - val_loss: 0.9182 - val_accuracy: 0.8140\n",
      "Epoch 12/20\n",
      "7982/7982 [==============================] - 3s 340us/step - loss: 0.1923 - accuracy: 0.9520 - val_loss: 0.9442 - val_accuracy: 0.8110\n",
      "Epoch 13/20\n",
      "7982/7982 [==============================] - 2s 296us/step - loss: 0.1679 - accuracy: 0.9543 - val_loss: 0.9810 - val_accuracy: 0.8060\n",
      "Epoch 14/20\n",
      "7982/7982 [==============================] - 3s 381us/step - loss: 0.1554 - accuracy: 0.9544 - val_loss: 0.9593 - val_accuracy: 0.8110\n",
      "Epoch 15/20\n",
      "7982/7982 [==============================] - 4s 447us/step - loss: 0.1430 - accuracy: 0.9555 - val_loss: 0.9543 - val_accuracy: 0.8170\n",
      "Epoch 16/20\n",
      "7982/7982 [==============================] - 4s 463us/step - loss: 0.1362 - accuracy: 0.9572 - val_loss: 1.0044 - val_accuracy: 0.8140\n",
      "Epoch 17/20\n",
      "7982/7982 [==============================] - 3s 327us/step - loss: 0.1282 - accuracy: 0.9572 - val_loss: 1.0234 - val_accuracy: 0.8100\n",
      "Epoch 18/20\n",
      "7982/7982 [==============================] - 3s 330us/step - loss: 0.1247 - accuracy: 0.9567 - val_loss: 1.0331 - val_accuracy: 0.8090\n",
      "Epoch 19/20\n",
      "7982/7982 [==============================] - 3s 404us/step - loss: 0.1188 - accuracy: 0.9578 - val_loss: 1.0412 - val_accuracy: 0.8160\n",
      "Epoch 20/20\n",
      "7982/7982 [==============================] - 4s 549us/step - loss: 0.1142 - accuracy: 0.9578 - val_loss: 1.0564 - val_accuracy: 0.8060\n"
     ]
    }
   ],
   "source": [
    "# 训练模型\n",
    "history = model.fit(partial_x_train,partial_y_train,epochs=20,batch_size=512,validation_data=(x_val, y_val))"
   ]
  },
  {
   "cell_type": "code",
   "execution_count": 12,
   "metadata": {},
   "outputs": [
    {
     "data": {
      "image/png": "[encoded data removed]",
      "text/plain": [
       "<Figure size 432x288 with 1 Axes>"
      ]
     },
     "metadata": {
      "needs_background": "light"
     },
     "output_type": "display_data"
    }
   ],
   "source": [
    "# 绘制训练损失和验证损失\n",
    "import matplotlib.pyplot as plt\n",
    "loss = history.history['loss']\n",
    "val_loss = history.history['val_loss']\n",
    "epochs = range(1, len(loss) + 1)\n",
    "plt.plot(epochs, loss, 'bo', label='Training loss')\n",
    "plt.plot(epochs, val_loss, 'b', label='Validation loss')\n",
    "plt.title('Training and validation loss')\n",
    "plt.xlabel('Epochs')\n",
    "plt.ylabel('Loss')\n",
    "plt.legend()\n",
    "plt.show()"
   ]
  },
  {
   "cell_type": "code",
   "execution_count": 14,
   "metadata": {},
   "outputs": [
    {
     "data": {
      "image/png": "[encoded data removed]",
      "text/plain": [
       "<Figure size 432x288 with 1 Axes>"
      ]
     },
     "metadata": {
      "needs_background": "light"
     },
     "output_type": "display_data"
    }
   ],
   "source": [
    "# 绘制训练精度和验证精度\n",
    "plt.clf()\n",
    "acc = history.history['accuracy']\n",
    "val_acc = history.history['val_accuracy']\n",
    "plt.plot(epochs, acc, 'bo', label='Training accuracy')\n",
    "plt.plot(epochs, val_acc, 'b', label='Validation accuracy')\n",
    "plt.title('Training and validation accuracy')\n",
    "plt.xlabel('Epochs')\n",
    "plt.ylabel('Accuracy')\n",
    "plt.legend()\n",
    "plt.show()"
   ]
  },
  {
   "cell_type": "code",
   "execution_count": 15,
   "metadata": {},
   "outputs": [
    {
     "name": "stdout",
     "output_type": "stream",
     "text": [
      "Train on 7982 samples, validate on 1000 samples\n",
      "Epoch 1/9\n",
      "7982/7982 [==============================] - 4s 527us/step - loss: 2.5987 - accuracy: 0.4790 - val_loss: 1.7708 - val_accuracy: 0.6210\n",
      "Epoch 2/9\n",
      "7982/7982 [==============================] - 4s 472us/step - loss: 1.4757 - accuracy: 0.6966 - val_loss: 1.3609 - val_accuracy: 0.7060\n",
      "Epoch 3/9\n",
      "7982/7982 [==============================] - 3s 354us/step - loss: 1.1048 - accuracy: 0.7657 - val_loss: 1.1825 - val_accuracy: 0.7430\n",
      "Epoch 4/9\n",
      "7982/7982 [==============================] - 3s 392us/step - loss: 0.8542 - accuracy: 0.8245 - val_loss: 1.0716 - val_accuracy: 0.7890\n",
      "Epoch 5/9\n",
      "7982/7982 [==============================] - 3s 369us/step - loss: 0.6741 - accuracy: 0.8626 - val_loss: 0.9670 - val_accuracy: 0.7990\n",
      "Epoch 6/9\n",
      "7982/7982 [==============================] - 3s 401us/step - loss: 0.5345 - accuracy: 0.8935 - val_loss: 0.9119 - val_accuracy: 0.8120\n",
      "Epoch 7/9\n",
      "7982/7982 [==============================] - 3s 405us/step - loss: 0.4276 - accuracy: 0.9128 - val_loss: 0.9015 - val_accuracy: 0.8090\n",
      "Epoch 8/9\n",
      "7982/7982 [==============================] - 3s 364us/step - loss: 0.3487 - accuracy: 0.9261 - val_loss: 0.9499 - val_accuracy: 0.7940\n",
      "Epoch 9/9\n",
      "7982/7982 [==============================] - 3s 366us/step - loss: 0.2863 - accuracy: 0.9387 - val_loss: 0.8938 - val_accuracy: 0.8110\n",
      "2246/2246 [==============================] - 1s 465us/step\n"
     ]
    }
   ],
   "source": [
    "# 网络在训练 9 轮后开始过拟合。从头开始训练一个新网络，共 9 个轮次，然后在测试集上评估模型。\n",
    "model = models.Sequential()\n",
    "model.add(layers.Dense(64, activation='relu', input_shape=(10000,)))\n",
    "model.add(layers.Dense(64, activation='relu'))\n",
    "model.add(layers.Dense(46, activation='softmax'))\n",
    "model.compile(optimizer='rmsprop',loss='categorical_crossentropy',metrics=['accuracy'])\n",
    "model.fit(partial_x_train,partial_y_train,epochs=9,batch_size=512,validation_data=(x_val, y_val))\n",
    "# 9个轮次\n",
    "results = model.evaluate(x_test, one_hot_test_labels)"
   ]
  },
  {
   "cell_type": "code",
   "execution_count": 16,
   "metadata": {},
   "outputs": [
    {
     "name": "stdout",
     "output_type": "stream",
     "text": [
      "[0.986677561502635, 0.7804986834526062]\n"
     ]
    }
   ],
   "source": [
    "print(results)"
   ]
  },
  {
   "cell_type": "code",
   "execution_count": 17,
   "metadata": {},
   "outputs": [
    {
     "name": "stdout",
     "output_type": "stream",
     "text": [
      "0.1829919857524488\n"
     ]
    }
   ],
   "source": [
    "# 这种方法可以得到约 78% 的精度。对于平衡的二分类问题，完全随机的分类器能够得到50% 的精度。\n",
    "# 但在这个例子中，完全随机的精度约为 18%，所以上述结果相当不错，至少和随机的基准比起来还不错。\n",
    "import copy\n",
    "test_labels_copy = copy.copy(test_labels)\n",
    "np.random.shuffle(test_labels_copy)\n",
    "hits_array = np.array(test_labels) == np.array(test_labels_copy)\n",
    "print(float(np.sum(hits_array)) / len(test_labels))"
   ]
  },
  {
   "cell_type": "code",
   "execution_count": 18,
   "metadata": {},
   "outputs": [
    {
     "name": "stdout",
     "output_type": "stream",
     "text": [
      "(46,)\n",
      "0.99999994\n",
      "3\n"
     ]
    }
   ],
   "source": [
    "# 模型实例的 predict 方法返回了在 46 个主题上的概率分布。我们对所有测试数据生成主题预测。\n",
    "# 在新数据上生成预测结果\n",
    "predictions = model.predict(x_test)\n",
    "# predictions 中的每个元素都是长度为 46 的向量。\n",
    "print(predictions[0].shape)\n",
    "# 这个向量的所有元素总和为 1。\n",
    "print(np.sum(predictions[0]))\n",
    "# 最大的元素就是预测类别，即概率最大的类别。\n",
    "print(np.argmax(predictions[0]))"
   ]
  },
  {
   "cell_type": "code",
   "execution_count": 19,
   "metadata": {},
   "outputs": [],
   "source": [
    "# 处理标签和损失的另一种方法\n",
    "# 另一种编码标签的方法，就是将其转换为整数张量，如下所示。\n",
    "y_train = np.array(train_labels)\n",
    "y_test = np.array(test_labels)\n",
    "# 对于这种编码方法，唯一需要改变的是损失函数的选择。\n",
    "# 对于以前代码使用的损失函数 categorical_crossentropy ，标签应该遵循分类编码。\n",
    "# 对于整数标签，应该使用sparse_categorical_crossentropy 。\n",
    "model.compile(optimizer='rmsprop',loss='sparse_categorical_crossentropy',metrics=['accuracy'])\n",
    "# 这个新的损失函数在数学上与 categorical_crossentropy 完全相同，二者只是接口不同。"
   ]
  },
  {
   "cell_type": "code",
   "execution_count": 20,
   "metadata": {},
   "outputs": [
    {
     "name": "stdout",
     "output_type": "stream",
     "text": [
      "Train on 7982 samples, validate on 1000 samples\n",
      "Epoch 1/20\n",
      "7982/7982 [==============================] - 5s 601us/step - loss: 2.8896 - accuracy: 0.3572 - val_loss: 2.3979 - val_accuracy: 0.3790\n",
      "Epoch 2/20\n",
      "7982/7982 [==============================] - 5s 572us/step - loss: 2.1866 - accuracy: 0.3862 - val_loss: 2.0815 - val_accuracy: 0.4160\n",
      "Epoch 3/20\n",
      "7982/7982 [==============================] - 5s 582us/step - loss: 1.8295 - accuracy: 0.4326 - val_loss: 1.7512 - val_accuracy: 0.4320\n",
      "Epoch 4/20\n",
      "7982/7982 [==============================] - 3s 377us/step - loss: 1.4529 - accuracy: 0.6000 - val_loss: 1.4752 - val_accuracy: 0.6330\n",
      "Epoch 5/20\n",
      "7982/7982 [==============================] - 5s 579us/step - loss: 1.2507 - accuracy: 0.6655 - val_loss: 1.4123 - val_accuracy: 0.6430\n",
      "Epoch 6/20\n",
      "7982/7982 [==============================] - 3s 422us/step - loss: 1.1490 - accuracy: 0.6705 - val_loss: 1.3773 - val_accuracy: 0.6440\n",
      "Epoch 7/20\n",
      "7982/7982 [==============================] - 3s 331us/step - loss: 1.0760 - accuracy: 0.6751 - val_loss: 1.3748 - val_accuracy: 0.6410\n",
      "Epoch 8/20\n",
      "7982/7982 [==============================] - 5s 581us/step - loss: 1.0140 - accuracy: 0.6857 - val_loss: 1.3963 - val_accuracy: 0.6410\n",
      "Epoch 9/20\n",
      "7982/7982 [==============================] - 4s 563us/step - loss: 0.9639 - accuracy: 0.6921 - val_loss: 1.4358 - val_accuracy: 0.6470\n",
      "Epoch 10/20\n",
      "7982/7982 [==============================] - 4s 548us/step - loss: 0.9230 - accuracy: 0.7102 - val_loss: 1.4246 - val_accuracy: 0.6630\n",
      "Epoch 11/20\n",
      "7982/7982 [==============================] - 4s 451us/step - loss: 0.8858 - accuracy: 0.7348 - val_loss: 1.5121 - val_accuracy: 0.6590\n",
      "Epoch 12/20\n",
      "7982/7982 [==============================] - 5s 609us/step - loss: 0.8522 - accuracy: 0.7462 - val_loss: 1.5080 - val_accuracy: 0.6720\n",
      "Epoch 13/20\n",
      "7982/7982 [==============================] - 5s 601us/step - loss: 0.8219 - accuracy: 0.7590 - val_loss: 1.5317 - val_accuracy: 0.6700\n",
      "Epoch 14/20\n",
      "7982/7982 [==============================] - 4s 500us/step - loss: 0.7932 - accuracy: 0.7720 - val_loss: 1.5651 - val_accuracy: 0.6670\n",
      "Epoch 15/20\n",
      "7982/7982 [==============================] - 4s 563us/step - loss: 0.7698 - accuracy: 0.7783 - val_loss: 1.6019 - val_accuracy: 0.6690\n",
      "Epoch 16/20\n",
      "7982/7982 [==============================] - 4s 507us/step - loss: 0.7486 - accuracy: 0.7855 - val_loss: 1.6837 - val_accuracy: 0.6730\n",
      "Epoch 17/20\n",
      "7982/7982 [==============================] - 3s 409us/step - loss: 0.7272 - accuracy: 0.7925 - val_loss: 1.6746 - val_accuracy: 0.6650\n",
      "Epoch 18/20\n",
      "7982/7982 [==============================] - 4s 535us/step - loss: 0.7076 - accuracy: 0.7974 - val_loss: 1.7123 - val_accuracy: 0.6590\n",
      "Epoch 19/20\n",
      "7982/7982 [==============================] - 3s 380us/step - loss: 0.6930 - accuracy: 0.8032 - val_loss: 1.7356 - val_accuracy: 0.6640\n",
      "Epoch 20/20\n",
      "7982/7982 [==============================] - 5s 572us/step - loss: 0.6792 - accuracy: 0.8069 - val_loss: 1.7846 - val_accuracy: 0.6640\n",
      "2246/2246 [==============================] - 1s 492us/step\n",
      "[2.2011582554182834, 0.6536064147949219]\n"
     ]
    }
   ],
   "source": [
    "# 中间层维度足够大的重要性\n",
    "# 前面提到，最终输出是 46 维的，因此中间层的隐藏单元个数不应该比 46 小太多。现在来\n",
    "# 看一下，如果中间层的维度远远小于 46（比如 3 维），造成了信息瓶颈，那么会发生什么？\n",
    "model = models.Sequential()\n",
    "model.add(layers.Dense(64, activation='relu', input_shape=(10000,)))\n",
    "model.add(layers.Dense(3, activation='relu'))\n",
    "model.add(layers.Dense(46, activation='softmax'))\n",
    "model.compile(optimizer='rmsprop',loss='categorical_crossentropy',metrics=['accuracy'])\n",
    "model.fit(partial_x_train,partial_y_train,epochs=20,batch_size=128,validation_data=(x_val, y_val))\n",
    "results = model.evaluate(x_test, one_hot_test_labels)\n",
    "print(results)"
   ]
  },
  {
   "cell_type": "code",
   "execution_count": 21,
   "metadata": {},
   "outputs": [],
   "source": [
    "# 现在网络的验证精度最大约为 65%，比前面下降了 13%。\n",
    "# 导致这一下降的主要原因在于，试图将大量信息（这些信息足够恢复 46 个类别的分割超平面）压缩到维度很小的中间空间。\n",
    "# 网络能够将大部分必要信息塞入这个三维表示中，但并不是全部信息。"
   ]
  },
  {
   "cell_type": "code",
   "execution_count": 1,
   "metadata": {},
   "outputs": [],
   "source": [
    "#  如果要对 N 个类别的数据点进行分类，网络的最后一层应该是大小为 N 的 Dense 层。\n",
    "#  对于单标签、多分类问题，网络的最后一层应该使用 softmax 激活，这样可以输出在 N\n",
    "# 个输出类别上的概率分布。\n",
    "#  这种问题的损失函数几乎总是应该使用分类交叉熵。它将网络输出的概率分布与目标的\n",
    "# 真实分布之间的距离最小化。\n",
    "#  处理多分类问题的标签有两种方法。\n",
    "#  通过分类编码（也叫 one-hot 编码）对标签进行编码，然后使用 categorical_\n",
    "# crossentropy 作为损失函数。\n",
    "#  将标签编码为整数，然后使用 sparse_categorical_crossentropy 损失函数。\n",
    "#  如果你需要将数据划分到许多类别中，应该避免使用太小的中间层，以免在网络中造成\n",
    "# 信息瓶颈。"
   ]
  },
  {
   "cell_type": "code",
   "execution_count": null,
   "metadata": {},
   "outputs": [],
   "source": []
  }
 ],
 "metadata": {
  "kernelspec": {
   "display_name": "Python 3",
   "language": "python",
   "name": "python3"
  },
  "language_info": {
   "codemirror_mode": {
    "name": "ipython",
    "version": 3
   },
   "file_extension": ".py",
   "mimetype": "text/x-python",
   "name": "python",
   "nbconvert_exporter": "python",
   "pygments_lexer": "ipython3",
   "version": "3.7.4"
  }
 },
 "nbformat": 4,
 "nbformat_minor": 2
}
